{
 "cells": [
  {
   "cell_type": "code",
   "execution_count": 1,
   "metadata": {},
   "outputs": [
    {
     "name": "stderr",
     "output_type": "stream",
     "text": [
      "/Users/felipemendez/Library/Python/3.9/lib/python/site-packages/urllib3/__init__.py:35: NotOpenSSLWarning: urllib3 v2 only supports OpenSSL 1.1.1+, currently the 'ssl' module is compiled with 'LibreSSL 2.8.3'. See: https://github.com/urllib3/urllib3/issues/3020\n",
      "  warnings.warn(\n"
     ]
    }
   ],
   "source": [
    "# Importamos las librerías necesarias\n",
    "import pandas as pd\n",
    "import nltk\n",
    "from nltk.sentiment import SentimentIntensityAnalyzer\n",
    "from transformers import pipeline\n",
    "from collections import Counter"
   ]
  },
  {
   "cell_type": "code",
   "execution_count": 2,
   "metadata": {},
   "outputs": [
    {
     "name": "stderr",
     "output_type": "stream",
     "text": [
      "[nltk_data] Downloading package vader_lexicon to\n",
      "[nltk_data]     /Users/felipemendez/nltk_data...\n",
      "[nltk_data]   Package vader_lexicon is already up-to-date!\n"
     ]
    },
    {
     "data": {
      "text/plain": [
       "True"
      ]
     },
     "execution_count": 2,
     "metadata": {},
     "output_type": "execute_result"
    }
   ],
   "source": [
    "# Descargamos los datos necesarios de nltk\n",
    "nltk.download('vader_lexicon')"
   ]
  },
  {
   "cell_type": "code",
   "execution_count": 3,
   "metadata": {},
   "outputs": [],
   "source": [
    "def analizar_sentimiento(csv_file, text_column, output_file):\n",
    "    \"\"\"\n",
    "    Realiza un análisis de sentimiento sobre un archivo CSV que contiene una columna de texto y guarda los resultados en un nuevo archivo CSV.\n",
    "    Para esto se escoge la moda entre 5 modelos de análisis de sentimiento (VADER + 4 transformers)\n",
    "\n",
    "    Args:\n",
    "        csv_file (str): Ruta al archivo CSV de entrada que contiene la columna de texto a analizar.\n",
    "        text_column (str): Nombre de la columna en el CSV que contiene los textos a analizar.\n",
    "        output_file (str): Ruta al archivo CSV donde se guardarán los resultados del análisis de sentimiento.\n",
    "\n",
    "    Returns:\n",
    "        None: Los resultados del análisis de sentimiento se guardan directamente en el archivo `output_file`.\n",
    "    \"\"\"\n",
    "    # Cargamos el archivo CSV\n",
    "    df = pd.read_csv(csv_file)\n",
    "    \n",
    "    # Inicializamos los modelos\n",
    "    sentiment_pipelines = {\n",
    "        \"xlm_roberta\": pipeline(\"sentiment-analysis\", model=\"cardiffnlp/twitter-xlm-roberta-base-sentiment\", tokenizer=\"cardiffnlp/twitter-xlm-roberta-base-sentiment\"),\n",
    "        \"robertuito\": pipeline(\"sentiment-analysis\", model=\"pysentimiento/robertuito-sentiment-analysis\", tokenizer=\"pysentimiento/robertuito-base-uncased\"),\n",
    "        \"bert_multilingual\": pipeline(\"sentiment-analysis\", model=\"nlptown/bert-base-multilingual-uncased-sentiment\", tokenizer=\"nlptown/bert-base-multilingual-uncased-sentiment\"),\n",
    "        \"beto\": pipeline(\"sentiment-analysis\", model=\"finiteautomata/beto-sentiment-analysis\", tokenizer=\"finiteautomata/beto-sentiment-analysis\")\n",
    "    }\n",
    "    \n",
    "    sia = SentimentIntensityAnalyzer()\n",
    "    \n",
    "    # Mapeo de etiquetas para transformers\n",
    "    def map_sentiment(label):\n",
    "        mapping = {\n",
    "            \"negative\": \"negativo\", \"neutral\": \"neutral\", \"positive\": \"positivo\", \n",
    "            \"1 star\": \"negativo\", \"2 stars\": \"negativo\", \"3 stars\": \"neutral\", \"4 stars\": \"positivo\", \"5 stars\": \"positivo\",\n",
    "            \"NEG\": \"negativo\", \"NEU\": \"neutral\", \"POS\": \"positivo\",\n",
    "            \"LABEL_0\": \"negativo\", \"LABEL_1\": \"neutral\", \"LABEL_2\": \"positivo\"\n",
    "        }\n",
    "        \n",
    "        return mapping.get(label, \"desconocido\")\n",
    "    \n",
    "    # Función para obtener la moda del sentimiento\n",
    "    def moda_sentimiento(sentiments):\n",
    "        conteo = Counter(sentiments)\n",
    "        return conteo.most_common(1)[0][0]\n",
    "    \n",
    "    def obtener_sentimientos(tweet):\n",
    "        sentimientos = {}\n",
    "        \n",
    "        # NLTK (VADER)\n",
    "        vader_score = sia.polarity_scores(tweet)\n",
    "        if vader_score['compound'] >= 0.05:\n",
    "            sentimientos[\"vader\"] = \"positivo\"\n",
    "        elif vader_score['compound'] <= -0.05:\n",
    "            sentimientos[\"vader\"] = \"negativo\"\n",
    "        else:\n",
    "            sentimientos[\"vader\"] = \"neutral\"\n",
    "        \n",
    "        # Transformers\n",
    "        for model_name, pipeline_model in sentiment_pipelines.items():\n",
    "            try:\n",
    "                label = pipeline_model(tweet)[0]['label']\n",
    "                sentimientos[model_name] = map_sentiment(label)\n",
    "            except Exception as e:\n",
    "                print(f\"Error con el modelo {model_name}: {e}\")\n",
    "                sentimientos[model_name] = \"error\"\n",
    "        \n",
    "        sentimientos[\"sentiment_global\"] = moda_sentimiento(sentimientos.values())\n",
    "        return sentimientos\n",
    "    \n",
    "    # Aplicamos el análisis de sentimiento\n",
    "    sentiment_results = df[text_column].astype(str).apply(obtener_sentimientos)\n",
    "    df_sentiments = pd.DataFrame(list(sentiment_results))\n",
    "    df = pd.concat([df, df_sentiments], axis=1)\n",
    "    \n",
    "    # Guardamos los resultados en un nuevo archivo CSV\n",
    "    df.to_csv(output_file, index=False)\n",
    "    print(f\"Análisis completado. Resultados guardados en {output_file}\")"
   ]
  },
  {
   "cell_type": "code",
   "execution_count": null,
   "metadata": {},
   "outputs": [],
   "source": [
    "# Generamos los resultados\n",
    "csv_input = \"Caso 2 Dataset.csv\"\n",
    "text_column = \"texto_tweet\"\n",
    "output_file = \"tweets_analizados.csv\"\n",
    "analizar_sentimiento(csv_input, text_column, output_file)"
   ]
  }
 ],
 "metadata": {
  "kernelspec": {
   "display_name": "Python 3",
   "language": "python",
   "name": "python3"
  },
  "language_info": {
   "codemirror_mode": {
    "name": "ipython",
    "version": 3
   },
   "file_extension": ".py",
   "mimetype": "text/x-python",
   "name": "python",
   "nbconvert_exporter": "python",
   "pygments_lexer": "ipython3",
   "version": "3.9.6"
  }
 },
 "nbformat": 4,
 "nbformat_minor": 2
}
